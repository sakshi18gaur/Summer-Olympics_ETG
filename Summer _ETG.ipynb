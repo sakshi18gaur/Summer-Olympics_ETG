{
  "nbformat": 4,
  "nbformat_minor": 0,
  "metadata": {
    "kernelspec": {
      "display_name": "Python 2",
      "language": "python",
      "name": "python2"
    },
    "language_info": {
      "codemirror_mode": {
        "name": "ipython",
        "version": 2
      },
      "file_extension": ".py",
      "mimetype": "text/x-python",
      "name": "python",
      "nbconvert_exporter": "python",
      "pygments_lexer": "ipython2",
      "version": "2.7.16"
    },
    "colab": {
      "name": "Summer.ipynb",
      "provenance": []
    }
  },
  "cells": [
    {
      "cell_type": "markdown",
      "metadata": {
        "id": "aPN2zIMkoBmx"
      },
      "source": [
        "# Summer Olympics Data Analysis Assignment"
      ]
    },
    {
      "cell_type": "markdown",
      "metadata": {
        "id": "rs7yN8_ToBnL"
      },
      "source": [
        "### 1. In how many cities Summer Olympics is held so far?"
      ]
    },
    {
      "cell_type": "code",
      "metadata": {
        "colab": {
          "base_uri": "https://localhost:8080/"
        },
        "id": "BnnLNXkyoBnM",
        "outputId": "610be3f6-f0c2-41e3-9d1e-7a76739d1a79"
      },
      "source": [
        "import pandas as pd\n",
        "import numpy as np\n",
        "import csv\n",
        "\n",
        "olympics_dataset = pd.read_csv('summer.csv')\n",
        "olympics_object = olympics_dataset\n",
        "\n",
        "\n",
        "cities = []\n",
        "count = 0\n",
        "for city in olympics_object['City']:\n",
        "  if city not in cities:\n",
        "    cities.append(city)\n",
        "    count+=1\n",
        "print(\"In {} cities Summer Olympics is held.\".format(count))"
      ],
      "execution_count": 2,
      "outputs": [
        {
          "output_type": "stream",
          "name": "stdout",
          "text": [
            "In 22 cities Summer Olympics is held.\n"
          ]
        }
      ]
    },
    {
      "cell_type": "markdown",
      "metadata": {
        "id": "jA0hjqsMoBnN"
      },
      "source": [
        "### 2. Which sport is having most number of Gold Medals so far? (Top 5)"
      ]
    },
    {
      "cell_type": "code",
      "metadata": {
        "colab": {
          "base_uri": "https://localhost:8080/",
          "height": 370
        },
        "id": "XQB5U3QkoBnN",
        "outputId": "4ae7ab13-336d-4a58-8f1f-ea819869c765"
      },
      "source": [
        "import matplotlib.pyplot as plt\n",
        "\n",
        "my_colors = ['Blue','Green','Yellow','Red','Magenta']\n",
        "\n",
        "my_columns = ['Sport','Medal']\n",
        "\n",
        "new_df_gold = olympics_dataset[my_columns]\n",
        "new_df_gold = new_df_gold[new_df_gold.Medal==\"Gold\"]\n",
        "\n",
        "y = new_df_gold[\"Sport\"].value_counts()[:5].plot(kind=\"bar\",colors=my_colors)\n",
        "\n"
      ],
      "execution_count": 33,
      "outputs": [
        {
          "output_type": "stream",
          "name": "stderr",
          "text": [
            "/usr/local/lib/python2.7/dist-packages/pandas/plotting/_core.py:185: UserWarning: 'colors' is being deprecated. Please use 'color'instead of 'colors'\n",
            "  warnings.warn((\"'colors' is being deprecated. Please use 'color'\"\n"
          ]
        },
        {
          "output_type": "display_data",
          "data": {
            "image/png": "[encoded data removed]",
            "text/plain": [
              "<Figure size 432x288 with 1 Axes>"
            ]
          },
          "metadata": {
            "needs_background": "light"
          }
        }
      ]
    },
    {
      "cell_type": "markdown",
      "metadata": {
        "id": "MqIYF1pLoBnO"
      },
      "source": [
        "### 3. Which sport is having most number of medals so far? (Top 5)"
      ]
    },
    {
      "cell_type": "code",
      "metadata": {
        "id": "pEEz08XuoBnO",
        "colab": {
          "base_uri": "https://localhost:8080/",
          "height": 317
        },
        "outputId": "e2a42b78-8ba9-4c8f-d445-0f02b00ee2e4"
      },
      "source": [
        "my_columns = ['Sport','Medal']\n",
        "\n",
        "new_df_gold = olympics_dataset[my_columns]\n",
        "\n",
        "medals_plot = new_df_gold[\"Sport\"].value_counts()[:5].plot(kind=\"bar\")\n"
      ],
      "execution_count": 26,
      "outputs": [
        {
          "output_type": "display_data",
          "data": {
            "image/png": "[encoded data removed]",
            "text/plain": [
              "<Figure size 432x288 with 1 Axes>"
            ]
          },
          "metadata": {
            "needs_background": "light"
          }
        }
      ]
    },
    {
      "cell_type": "markdown",
      "metadata": {
        "id": "5gZk2aXDoBnO"
      },
      "source": [
        "### 4. Which player has won most number of medals? (Top 5)"
      ]
    },
    {
      "cell_type": "code",
      "metadata": {
        "id": "55yLOqLVbIeK",
        "colab": {
          "base_uri": "https://localhost:8080/",
          "height": 376
        },
        "outputId": "1582ebcd-832c-4cbf-8f30-10a2f364360b"
      },
      "source": [
        "import matplotlib.pyplot as plt\n",
        "\n",
        "my_columns = ['Athlete','Medal']\n",
        "\n",
        "new_df_gold = olympics_dataset[my_columns]\n",
        "\n",
        "y = new_df_gold[\"Athlete\"].value_counts()[:5].plot(kind=\"bar\")\n"
      ],
      "execution_count": 27,
      "outputs": [
        {
          "output_type": "display_data",
          "data": {
            "image/png": "[encoded data removed]",
            "text/plain": [
              "<Figure size 432x288 with 1 Axes>"
            ]
          },
          "metadata": {
            "needs_background": "light"
          }
        }
      ]
    },
    {
      "cell_type": "markdown",
      "metadata": {
        "id": "3aoNip-doBnP"
      },
      "source": [
        "### 5. Which player has won most number Gold Medals of medals? (Top 5)"
      ]
    },
    {
      "cell_type": "code",
      "metadata": {
        "id": "8ZchG9SKoBnP",
        "colab": {
          "base_uri": "https://localhost:8080/",
          "height": 344
        },
        "outputId": "3cedd051-a6ae-4e4c-ecf9-7ceea44e6502"
      },
      "source": [
        "import matplotlib.pyplot as plt\n",
        "\n",
        "my_columns = ['Athlete','Medal']\n",
        "\n",
        "new_df_gold = olympics_dataset[my_columns]\n",
        "new_df_gold = new_df_gold[new_df_gold.Medal==\"Gold\"]\n",
        "\n",
        "y = new_df_gold[\"Athlete\"].value_counts()[:5].plot(kind=\"bar\")\n"
      ],
      "execution_count": 28,
      "outputs": [
        {
          "output_type": "display_data",
          "data": {
            "image/png": "[encoded data removed]",
            "text/plain": [
              "<Figure size 432x288 with 1 Axes>"
            ]
          },
          "metadata": {
            "needs_background": "light"
          }
        }
      ]
    },
    {
      "cell_type": "markdown",
      "metadata": {
        "id": "nz7kYe3goBnP"
      },
      "source": [
        "### 6. In which year India won first Gold Medal in Summer Olympics?"
      ]
    },
    {
      "cell_type": "code",
      "metadata": {
        "colab": {
          "base_uri": "https://localhost:8080/"
        },
        "id": "73W_BpFxoBnQ",
        "outputId": "093cd1c3-ce57-45df-9542-c31ca7ab15de"
      },
      "source": [
        "mycols=['Country','Medal', 'Year']\n",
        "\n",
        "new_df = olympics_dataset[mycols]\n",
        "india_list = (new_df[new_df.Country==\"IND\"])\n",
        "india_list = india_list[india_list.Medal==\"Gold\"]\n",
        "\n",
        "for each in india_list['Year']:\n",
        "  print('India won its first Gold Medal in {} year.'.format(each))\n",
        "  break\n",
        "  "
      ],
      "execution_count": null,
      "outputs": [
        {
          "output_type": "stream",
          "name": "stdout",
          "text": [
            "India won its first Gold Medal in 1928 year.\n"
          ]
        }
      ]
    },
    {
      "cell_type": "markdown",
      "metadata": {
        "id": "fIg3pliaoBnQ"
      },
      "source": [
        "### 7. Which event is most popular in terms on number of players? (Top 5)"
      ]
    },
    {
      "cell_type": "code",
      "metadata": {
        "colab": {
          "base_uri": "https://localhost:8080/",
          "height": 317
        },
        "id": "L4yWTeBooBnQ",
        "outputId": "a2134ab2-f2cb-41b6-ed6b-13e7129d53cd"
      },
      "source": [
        "import matplotlib.pyplot as plt\n",
        "\n",
        "my_columns = ['Sport','Athlete']\n",
        "\n",
        "new_df_gold = olympics_dataset[my_columns]\n",
        "\n",
        "\n",
        "y = new_df_gold[\"Sport\"].value_counts()[:5].plot(kind=\"bar\")\n"
      ],
      "execution_count": 29,
      "outputs": [
        {
          "output_type": "display_data",
          "data": {
            "image/png": "[encoded data removed]",
            "text/plain": [
              "<Figure size 432x288 with 1 Axes>"
            ]
          },
          "metadata": {
            "needs_background": "light"
          }
        }
      ]
    },
    {
      "cell_type": "markdown",
      "metadata": {
        "id": "dzlXgxKSoBnR"
      },
      "source": [
        "### 8. Which sport is having most female Gold Medalists? (Top 5)"
      ]
    },
    {
      "cell_type": "code",
      "metadata": {
        "id": "bo7w1XsmoBnR",
        "colab": {
          "base_uri": "https://localhost:8080/",
          "height": 317
        },
        "outputId": "686e1068-ee0b-490a-b68e-7e7ab150ee98"
      },
      "source": [
        "import matplotlib.pyplot as plt\n",
        "\n",
        "my_columns = ['Sport','Medal','Gender']\n",
        "\n",
        "new_df_gold = olympics_dataset[my_columns]\n",
        "new_df_gold = new_df_gold[new_df_gold.Medal==\"Gold\"]\n",
        "new_df_gold = new_df_gold[new_df_gold.Gender==\"Women\"]\n",
        "\n",
        "y = new_df_gold[\"Sport\"].value_counts()[:5].plot(kind=\"bar\")\n"
      ],
      "execution_count": 31,
      "outputs": [
        {
          "output_type": "display_data",
          "data": {
            "image/png": "[encoded data removed]",
            "text/plain": [
              "<Figure size 432x288 with 1 Axes>"
            ]
          },
          "metadata": {
            "needs_background": "light"
          }
        }
      ]
    }
  ]
}